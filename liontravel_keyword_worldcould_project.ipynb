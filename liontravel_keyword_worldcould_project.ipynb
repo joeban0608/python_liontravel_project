{
  "nbformat": 4,
  "nbformat_minor": 0,
  "metadata": {
    "colab": {
      "name": "liontravel_keyword_worldcould_project.ipynb",
      "private_outputs": true,
      "provenance": [],
      "collapsed_sections": [],
      "authorship_tag": "ABX9TyM4eGAs0auYoc5N94Ig31o+",
      "include_colab_link": true
    },
    "kernelspec": {
      "name": "python3",
      "display_name": "Python 3"
    }
  },
  "cells": [
    {
      "cell_type": "markdown",
      "metadata": {
        "id": "view-in-github",
        "colab_type": "text"
      },
      "source": [
        "<a href=\"https://colab.research.google.com/github/joeban0608/python_liontravel_project/blob/main/liontravel_keyword_worldcould_project.ipynb\" target=\"_parent\"><img src=\"https://colab.research.google.com/assets/colab-badge.svg\" alt=\"Open In Colab\"/></a>"
      ]
    },
    {
      "cell_type": "code",
      "metadata": {
        "id": "d10xEv9b62DQ"
      },
      "source": [
        "# get_godatastart & godataend dates \n",
        "# 想要出發的行程區間,預設[當日]至[當日再往後加30日]\n",
        "# 參考來源:https://codertw.com/%E7%A8%8B%E5%BC%8F%E8%AA%9E%E8%A8%80/369869/\n",
        "import datetime\n",
        "import time\n",
        "from datetime import timedelta, date\n",
        " \n",
        "# 取[今日的str日期]方式\n",
        "def get_liontravel_datas():\n",
        "    def strTodatetime(datestr, format):\n",
        "        return datetime.datetime.strptime(datestr, format)\n",
        "    data_godatestart = time.strftime(\"%Y-%m-%d\", time.localtime())\n",
        " \n",
        "    # 取[未來30天的日期]方式\n",
        "    def get_day_of_day(n=0):\n",
        "        if(n<0):\n",
        "            n = abs(n)\n",
        "            return date.today()-timedelta(days=n)\n",
        "        else:\n",
        "            return date.today()+timedelta(days=n)\n",
        "    data_godateend = str(get_day_of_day(30))\n",
        "    return data_godatestart , data_godateend"
      ],
      "execution_count": null,
      "outputs": []
    },
    {
      "cell_type": "code",
      "metadata": {
        "id": "q1oxpQNa7Rui"
      },
      "source": [
        "# get_fulltext\n",
        "# 下載jieba 大字典\n",
        "import jieba\n",
        "from urllib.request import urlretrieve\n",
        "import requests\n",
        "from bs4 import BeautifulSoup\n",
        " \n",
        "url = \"https://github.com/fxsjy/jieba/raw/master/extra_dict/dict.txt.big\"\n",
        "urlretrieve(url, \"dict.big\") \n",
        " \n",
        "jieba.set_dictionary(\"dict.big\")  # 設定好原始字典\n",
        "# 看情況加入自定義字典\n",
        "jieba.load_userdict(\"liontravel_title.tit\") # 載入自定義字典\n",
        " \n",
        "data_godatestart = get_liontravel_datas()[0]\n",
        "data_godateend  = get_liontravel_datas()[1]\n",
        " \n",
        "def get_liontravel_fulltext(input_SortType=1, input_Keywords=4,data_godatestart=data_godatestart,data_godateend=data_godateend):\n",
        "    # 由於畫出文字雲需要把所有文字整理成一篇文章, 於是我們準備一個容器來儲存\n",
        "    fulltext = \"\"\n",
        "    # 給網頁search的參數, 預設值台灣，依價格搜尋\n",
        "    list_KEYWORDS = [\"一日遊\",\"台東\",\"宜蘭\",\"基隆\",\"台灣\"]\n",
        "    PAGE = 1\n",
        "    i = 0\n",
        "    while True:\n",
        "        url = \"https://travel.liontravel.com/search/grouplist\"\n",
        "        GODATESTART = data_godatestart\n",
        "        GODATEEND = data_godateend\n",
        "        SORTYPE = str(input_SortType)\n",
        "        KEYWORDS = list_KEYWORDS[input_Keywords]\n",
        "        datas = {\n",
        "                \"ArriveID\":\",\",\n",
        "                \"GoDateStart\": GODATESTART,\n",
        "                \"GoDateEnd\": GODATEEND,\n",
        "                \"Keywords\": KEYWORDS,\n",
        "                \"IsEnsureGroup\": \"false\",\n",
        "                \"IsSold\": \"true\",\n",
        "                \"GoStartDays\": \"0\",\n",
        "                \"TravelType\": \"1\",\n",
        "                \"TourArea\": \"0\",\n",
        "                \"Page\": str(PAGE + i),\n",
        "                \"SortType\": SORTYPE\n",
        "                }\n",
        "        if not datas[\"Page\"] == \"1\":\n",
        "           url = url + \"item\" \n",
        "        response = requests.post(url, datas)\n",
        "        html = BeautifulSoup(response.text)\n",
        "        travels = html.find_all(\"div\",class_=\"rli_tlin\")\n",
        "        # if not 群集: 參考用法by東哲\n",
        "        if not travels:\n",
        "            break\n",
        "        for travel in travels:\n",
        "            # 將往返放回全文，因為後面jieba分析關鍵詞有用到，觀念提醒by家和\n",
        "            title = travel.find(\"div\",class_=\"rli_body\").find(\"div\",class_=\"rli_content\").find(\"a\")\n",
        "            title = title.text.replace(\"⇄\",\"往返\")\n",
        "            fulltext = fulltext + \" \" + \" \".join(jieba.cut(title))\n",
        "        i += 1     \n",
        "    return fulltext, list_KEYWORDS[input_Keywords]"
      ],
      "execution_count": null,
      "outputs": []
    },
    {
      "cell_type": "code",
      "metadata": {
        "id": "per6Q85jVJVO"
      },
      "source": [
        "# get_fulltext, filename\r\n",
        "# 運用寫好的函式，調整input_Keywords=參數，拿到想要的旅遊篇幅\r\n",
        "fulltext = get_liontravel_fulltext(input_Keywords=0)[0]\r\n",
        "filename = get_liontravel_fulltext(input_Keywords=0)[1]\r\n",
        "# print(fulltext)\r\n",
        "# input_keywords=0 一日遊\r\n",
        "# input_keywords=1 台東\r\n",
        "# input_keywords=2 宜蘭\r\n",
        "# input_keywords=3 基隆\r\n",
        "# input_keywords=4 [預設台灣]"
      ],
      "execution_count": null,
      "outputs": []
    },
    {
      "cell_type": "code",
      "metadata": {
        "id": "itDbWONx-lO5"
      },
      "source": [
        "# get_keyword\r\n",
        "# extract_tags() 抓出10個跟搜尋關鍵字有關的熱門關鍵字\r\n",
        "# 運用jieba.del_word() 刪掉不重要的關鍵詞 \r\n",
        "from jieba.analyse import extract_tags\r\n",
        "def get_keyword(top=10):\r\n",
        "  jieba.del_word(\"出發\")\r\n",
        "  list_keyword = extract_tags(fulltext, top)\r\n",
        "  # 因為文字雲，會將放在越前面的list號碼的文字加大，因此將重要的關鍵詞改放排序方式:\r\n",
        "  # 一日遊篇,發現一日遊被排在第四個,藉由list method找出一日遊刪掉,並將一日遊放回第一個\r\n",
        "  if not list_keyword[0] == filename:\r\n",
        "    for i in list_keyword:\r\n",
        "      if i == filename:\r\n",
        "        list_keyword.remove(i)\r\n",
        "        list_keyword.insert(0, filename)\r\n",
        "  # 將list_keyword轉換方式，參考by家和\r\n",
        "  keyword = str(list_keyword)[1:-2].replace(\",\", \"\").replace(\"'\", \"\")\r\n",
        "  return keyword\r\n",
        "# top可調整要取幾個關鍵詞\r\n",
        "keyword = get_keyword(top=10)\r\n",
        "# print(keyword)"
      ],
      "execution_count": null,
      "outputs": []
    },
    {
      "cell_type": "code",
      "metadata": {
        "id": "gnCo8guzGd7X"
      },
      "source": [
        "# 除了安裝wordcloud 另外記得把1.文字雲的背景圖片\"jpg檔\"& 2.google字體的檔案丟到ipynb資料夾 \r\n",
        "# 參考by東哲\r\n",
        "!pip install wordcloud"
      ],
      "execution_count": null,
      "outputs": []
    },
    {
      "cell_type": "code",
      "metadata": {
        "id": "aMujnhJAVj7R"
      },
      "source": [
        "# plot wordcloud\r\n",
        "# 參考by又益，周老師\r\n",
        "from PIL import Image\r\n",
        "import numpy as np\r\n",
        "from wordcloud import WordCloud, ImageColorGenerator\r\n",
        "import matplotlib.pyplot as plt\r\n",
        " \r\n",
        "# 先把我們要做文字雲的圖片開起來\r\n",
        "mask_path = \"TaiwanMap.jpg\"\r\n",
        "mask = np.array(Image.open(mask_path))\r\n",
        "# 準備WordCloud\r\n",
        "wc = WordCloud(font_path=\"./NotoSansCJKtc-Bold.otf\", \r\n",
        "               background_color=\"white\", \r\n",
        "               max_words=5000,\r\n",
        "               mask=mask,\r\n",
        "               collocations=False)\r\n",
        "wc.generate(keyword)\r\n",
        "# 把原圖的色彩擷取出來, 而且用來上色wc(文字雲)\r\n",
        "color = ImageColorGenerator(mask)\r\n",
        "wc.recolor(color_func = color)\r\n",
        "# 儲存檔案, 你可在你的project 看到這個檔案\r\n",
        "wc.to_file(\"./\" + filename + \"_cloud.png\")\r\n",
        "# (Jupyter Only) 你可以在Notebook 上直接秀出\r\n",
        "wc.to_image()"
      ],
      "execution_count": null,
      "outputs": []
    }
  ]
}