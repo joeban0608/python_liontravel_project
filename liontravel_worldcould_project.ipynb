{
  "nbformat": 4,
  "nbformat_minor": 0,
  "metadata": {
    "colab": {
      "name": "liontravel_worldcould_project.ipynb",
      "private_outputs": true,
      "provenance": [],
      "collapsed_sections": [],
      "authorship_tag": "ABX9TyOZQavi8sg8hHF8RB+7liyZ",
      "include_colab_link": true
    },
    "kernelspec": {
      "name": "python3",
      "display_name": "Python 3"
    }
  },
  "cells": [
    {
      "cell_type": "markdown",
      "metadata": {
        "id": "view-in-github",
        "colab_type": "text"
      },
      "source": [
        "<a href=\"https://colab.research.google.com/github/joeban0608/python_liontravel_project/blob/main/liontravel_worldcould_project.ipynb\" target=\"_parent\"><img src=\"https://colab.research.google.com/assets/colab-badge.svg\" alt=\"Open In Colab\"/></a>"
      ]
    },
    {
      "cell_type": "code",
      "metadata": {
        "id": "d10xEv9b62DQ"
      },
      "source": [
        "# get_godatastart & godataend dates \r\n",
        "# 想要出發的行程區間,預設[當日]至[當日再往後加30日]\r\n",
        "# 參考來源:https://codertw.com/%E7%A8%8B%E5%BC%8F%E8%AA%9E%E8%A8%80/369869/\r\n",
        "import datetime\r\n",
        "import time\r\n",
        "from datetime import timedelta, date\r\n",
        "\r\n",
        "# 取[今日的str日期]方式\r\n",
        "def get_liontravel_datas():\r\n",
        "    def strTodatetime(datestr, format):\r\n",
        "        return datetime.datetime.strptime(datestr, format)\r\n",
        "    data_godatestart = time.strftime(\"%Y-%m-%d\", time.localtime())\r\n",
        "\r\n",
        "    # 取[未來30天的日期]方式\r\n",
        "    def get_day_of_day(n=0):\r\n",
        "        if(n<0):\r\n",
        "            n = abs(n)\r\n",
        "            return date.today()-timedelta(days=n)\r\n",
        "        else:\r\n",
        "            return date.today()+timedelta(days=n)\r\n",
        "    data_godateend = str(get_day_of_day(30))\r\n",
        "    return data_godatestart , data_godateend"
      ],
      "execution_count": null,
      "outputs": []
    },
    {
      "cell_type": "code",
      "metadata": {
        "id": "q1oxpQNa7Rui"
      },
      "source": [
        "# get_fulltext\r\n",
        "# 下載jieba 大字典\r\n",
        "import jieba\r\n",
        "from urllib.request import urlretrieve\r\n",
        "import requests\r\n",
        "from bs4 import BeautifulSoup\r\n",
        "\r\n",
        "url = \"https://github.com/fxsjy/jieba/raw/master/extra_dict/dict.txt.big\"\r\n",
        "urlretrieve(url, \"dict.big\") \r\n",
        "\r\n",
        "jieba.set_dictionary(\"dict.big\")  # 設定好原始字典\r\n",
        "# 看情況加入自定義字典\r\n",
        "# jieba.load_userdict(\"art.art\") # 載入自定義字典\r\n",
        "\r\n",
        "data_godatestart = get_liontravel_datas()[0]\r\n",
        "data_godateend  = get_liontravel_datas()[1]\r\n",
        "\r\n",
        "def get_liontravel_fulltext(input_SortType=1, input_Keywords=4,data_godatestart=data_godatestart,data_godateend=data_godateend):\r\n",
        "    # 由於畫出文字雲需要把所有文字整理成一篇文章, 於是我們準備一個容器來儲存\r\n",
        "    fulltext = \"\"\r\n",
        "    # 給網頁search的參數, 預設值台灣，依價格搜尋\r\n",
        "    list_KEYWORDS = [\"一日遊\",\"台東\",\"宜蘭\",\"基隆\",\"台灣\"]\r\n",
        "    PAGE = 1\r\n",
        "    i = 0\r\n",
        "    while True:\r\n",
        "        url = \"https://travel.liontravel.com/search/grouplist\"\r\n",
        "        GODATESTART = data_godatestart\r\n",
        "        GODATEEND = data_godateend\r\n",
        "        SORTYPE = str(input_SortType)\r\n",
        "        KEYWORDS = list_KEYWORDS[input_Keywords]\r\n",
        "        datas = {\r\n",
        "                \"ArriveID\":\",\",\r\n",
        "                \"GoDateStart\": GODATESTART,\r\n",
        "                \"GoDateEnd\": GODATEEND,\r\n",
        "                \"Keywords\": KEYWORDS,\r\n",
        "                \"IsEnsureGroup\": \"false\",\r\n",
        "                \"IsSold\": \"true\",\r\n",
        "                \"GoStartDays\": \"0\",\r\n",
        "                \"TravelType\": \"1\",\r\n",
        "                \"TourArea\": \"0\",\r\n",
        "                \"Page\": str(PAGE + i),\r\n",
        "                \"SortType\": SORTYPE\r\n",
        "                }\r\n",
        "        if not datas[\"Page\"] == \"1\":\r\n",
        "           url = url + \"item\" \r\n",
        "        response = requests.post(url, datas)\r\n",
        "        html = BeautifulSoup(response.text)\r\n",
        "        travels = html.find_all(\"div\",class_=\"rli_tlin\")\r\n",
        "        if not travels:\r\n",
        "            break\r\n",
        "        for travel in travels:\r\n",
        "            title = travel.find(\"div\",class_=\"rli_body\").find(\"div\",class_=\"rli_content\").find(\"a\")\r\n",
        "\r\n",
        "            fulltext = fulltext + \" \" + \" \".join(jieba.cut(title.text))\r\n",
        "        i += 1     \r\n",
        "    return fulltext, list_KEYWORDS[input_Keywords]"
      ],
      "execution_count": null,
      "outputs": []
    },
    {
      "cell_type": "code",
      "metadata": {
        "id": "pgaXRPDz_IxL"
      },
      "source": [
        "# 除了安裝wordcloud 另外記得把1.文字雲的背景圖片\"jpg檔\"& 2.google字體的檔案丟到ipynb資料夾 \r\n",
        "# 參考by東哲\r\n",
        "!pip install wordcloud"
      ],
      "execution_count": null,
      "outputs": []
    },
    {
      "cell_type": "code",
      "metadata": {
        "id": "gQny8GiN8K9T"
      },
      "source": [
        "# get_fulltext, filename\r\n",
        "# 運用寫好的函式，調整input_Keywords=參數，拿到想要的旅遊篇幅\r\n",
        "fulltext = get_liontravel_fulltext(input_Keywords=4)[0]\r\n",
        "filename = get_liontravel_fulltext(input_Keywords=4)[1]\r\n",
        "# print(fulltext)\r\n",
        "# input_keywords=4 [預設台灣]\r\n",
        "# input_keywords=3 基隆\r\n",
        "# input_keywords=2 宜蘭\r\n",
        "# input_keywords=1 台東\r\n",
        "# input_keywords=0 一日遊"
      ],
      "execution_count": null,
      "outputs": []
    },
    {
      "cell_type": "code",
      "metadata": {
        "id": "Fh7KWzbAGyGF"
      },
      "source": [
        "# plot wordcloud\r\n",
        "# 參考by又益，周老師\r\n",
        "from PIL import Image\r\n",
        "import numpy as np\r\n",
        "from wordcloud import WordCloud, ImageColorGenerator\r\n",
        "import matplotlib.pyplot as plt\r\n",
        "\r\n",
        "# 先把我們要做文字雲的圖片開起來\r\n",
        "# 這邊的圖需用jpg檔，可透過wordart.com 抓取圖片，轉成jpg檔再放回\r\n",
        "# 參考by俊銘\r\n",
        "mask_path = \"world2.jpg\"\r\n",
        "mask = np.array(Image.open(mask_path))\r\n",
        "# 準備WordCloud\r\n",
        "wc = WordCloud(font_path=\"./NotoSansCJKtc-Bold.otf\", \r\n",
        "               background_color=\"white\", \r\n",
        "               max_words=5000,\r\n",
        "               mask=mask,\r\n",
        "               collocations=False)\r\n",
        "wc.generate(fulltext)\r\n",
        "# 把原圖的色彩擷取出來, 而且用來上色wc(文字雲)\r\n",
        "color = ImageColorGenerator(mask)\r\n",
        "wc.recolor(color_func = color)\r\n",
        "# 儲存檔案, 你可在你的project 看到這個檔案\r\n",
        "wc.to_file(\"./\" + filename + \"_cloud.png\")\r\n",
        "# (Jupyter Only) 你可以在Notebook 上直接秀出\r\n",
        "wc.to_image()"
      ],
      "execution_count": null,
      "outputs": []
    }
  ]
}